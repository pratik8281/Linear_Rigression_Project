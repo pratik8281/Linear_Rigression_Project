{
 "cells": [
  {
   "cell_type": "markdown",
   "id": "608199ff-cbc0-4426-b130-d852221873fc",
   "metadata": {},
   "source": [
    "# Introduction to the LungCapData Dataset\n",
    "The LungCapData dataset is a comprehensive collection of data related to lung capacities in individuals. It is designed to provide valuable insights into respiratory health, aiding in medical research, health assessments, and educational purposes."
   ]
  },
  {
   "cell_type": "markdown",
   "id": "56a861e5-3ba6-4932-9214-dfd291e99b90",
   "metadata": {},
   "source": [
    "## Aim\n",
    "The primary aim of the LungCapData dataset is to facilitate the understanding and analysis of factors affecting lung capacity in different population groups. By providing detailed measurements and demographic information, the dataset aims to:"
   ]
  },
  {
   "cell_type": "markdown",
   "id": "e815859c-0ee4-4f8a-8309-937df4a4eb56",
   "metadata": {},
   "source": [
    "### Dataset Description\n",
    "- The dataset includes various measurements related to lung capacity, demographic information, and health-related attributes.\n",
    "- Common attributes in such datasets might include\n",
    "\n",
    "- **Age**: The age of the individual.\n",
    "- **Gender**: The gender of the individual.\n",
    "- **Height**: The height of the individual (inches).\n",
    "- **Weight**: The weight of the individual (kilograms).\n",
    "- **Lung Capacity**: Measurement of lung capacity (often in liters).\n"
   ]
  },
  {
   "cell_type": "markdown",
   "id": "fb842ce7-77a9-457e-ba0f-ca8626ab3fbe",
   "metadata": {},
   "source": [
    "**Data Source**: The data was collected from Kaggle, a platform known for hosting datasets relevant to various domains."
   ]
  },
  {
   "cell_type": "markdown",
   "id": "46c665af-eb9d-49c9-a66b-88c26f3b2aab",
   "metadata": {},
   "source": [
    "***importing required libraries***"
   ]
  },
  {
   "cell_type": "code",
   "execution_count": 1,
   "id": "33a7a292-c5de-4b72-bc34-bd964e17fc8b",
   "metadata": {},
   "outputs": [],
   "source": [
    "import pandas as pd\n",
    "import numpy as np\n",
    "pd.set_option(\"display.max_columns\", None)\n",
    "pd.set_option(\"display.max_rows\", None)"
   ]
  },
  {
   "cell_type": "markdown",
   "id": "0e849237-7dec-4913-baeb-008515d4010e",
   "metadata": {},
   "source": [
    "**1 Load the Data:**\n",
    "\n",
    "- Load the \"LungCapData\" dataset into a Pandas DataFrame.\n"
   ]
  },
  {
   "cell_type": "code",
   "execution_count": 2,
   "id": "b65bda66-c8ce-4f33-8ed4-1c3aa811717c",
   "metadata": {},
   "outputs": [],
   "source": [
    "df = pd.read_csv(\"LungCapData.csv\")"
   ]
  },
  {
   "cell_type": "markdown",
   "id": "23c56f90-fb8c-4582-846f-34660643faae",
   "metadata": {},
   "source": [
    "- head() method used to display the first five rows"
   ]
  },
  {
   "cell_type": "code",
   "execution_count": 3,
   "id": "722472ca-4b86-44d0-a824-133f24abe418",
   "metadata": {},
   "outputs": [
    {
     "data": {
      "text/html": [
       "<div>\n",
       "<style scoped>\n",
       "    .dataframe tbody tr th:only-of-type {\n",
       "        vertical-align: middle;\n",
       "    }\n",
       "\n",
       "    .dataframe tbody tr th {\n",
       "        vertical-align: top;\n",
       "    }\n",
       "\n",
       "    .dataframe thead th {\n",
       "        text-align: right;\n",
       "    }\n",
       "</style>\n",
       "<table border=\"1\" class=\"dataframe\">\n",
       "  <thead>\n",
       "    <tr style=\"text-align: right;\">\n",
       "      <th></th>\n",
       "      <th>LungCap</th>\n",
       "      <th>Age</th>\n",
       "      <th>Height</th>\n",
       "      <th>Smoke</th>\n",
       "      <th>Gender</th>\n",
       "      <th>Caesarean</th>\n",
       "    </tr>\n",
       "  </thead>\n",
       "  <tbody>\n",
       "    <tr>\n",
       "      <th>0</th>\n",
       "      <td>6.475</td>\n",
       "      <td>6</td>\n",
       "      <td>62.1</td>\n",
       "      <td>no</td>\n",
       "      <td>male</td>\n",
       "      <td>no</td>\n",
       "    </tr>\n",
       "    <tr>\n",
       "      <th>1</th>\n",
       "      <td>10.125</td>\n",
       "      <td>18</td>\n",
       "      <td>74.7</td>\n",
       "      <td>yes</td>\n",
       "      <td>female</td>\n",
       "      <td>no</td>\n",
       "    </tr>\n",
       "    <tr>\n",
       "      <th>2</th>\n",
       "      <td>9.550</td>\n",
       "      <td>16</td>\n",
       "      <td>69.7</td>\n",
       "      <td>no</td>\n",
       "      <td>female</td>\n",
       "      <td>yes</td>\n",
       "    </tr>\n",
       "    <tr>\n",
       "      <th>3</th>\n",
       "      <td>11.125</td>\n",
       "      <td>14</td>\n",
       "      <td>71.0</td>\n",
       "      <td>no</td>\n",
       "      <td>male</td>\n",
       "      <td>no</td>\n",
       "    </tr>\n",
       "    <tr>\n",
       "      <th>4</th>\n",
       "      <td>4.800</td>\n",
       "      <td>5</td>\n",
       "      <td>56.9</td>\n",
       "      <td>no</td>\n",
       "      <td>male</td>\n",
       "      <td>no</td>\n",
       "    </tr>\n",
       "  </tbody>\n",
       "</table>\n",
       "</div>"
      ],
      "text/plain": [
       "   LungCap  Age  Height Smoke  Gender Caesarean\n",
       "0    6.475    6    62.1    no    male        no\n",
       "1   10.125   18    74.7   yes  female        no\n",
       "2    9.550   16    69.7    no  female       yes\n",
       "3   11.125   14    71.0    no    male        no\n",
       "4    4.800    5    56.9    no    male        no"
      ]
     },
     "execution_count": 3,
     "metadata": {},
     "output_type": "execute_result"
    }
   ],
   "source": [
    "df.head()"
   ]
  },
  {
   "cell_type": "markdown",
   "id": "b2c9e5f1-6c76-4dfb-a9a0-1ef8706e64d0",
   "metadata": {},
   "source": [
    "- shape attribute return the number of rows & columns"
   ]
  },
  {
   "cell_type": "code",
   "execution_count": 4,
   "id": "06719cbc-95be-4a7b-ae74-b34b5a684751",
   "metadata": {},
   "outputs": [
    {
     "data": {
      "text/plain": [
       "(725, 6)"
      ]
     },
     "execution_count": 4,
     "metadata": {},
     "output_type": "execute_result"
    }
   ],
   "source": [
    "df.shape"
   ]
  },
  {
   "cell_type": "markdown",
   "id": "0a708c93-06a2-4cd5-a0be-8db64fe9320f",
   "metadata": {},
   "source": [
    "- info() method provide concise summary of data"
   ]
  },
  {
   "cell_type": "code",
   "execution_count": 5,
   "id": "33164e36-e74f-49f7-bac9-a11600dcb2ca",
   "metadata": {},
   "outputs": [
    {
     "name": "stdout",
     "output_type": "stream",
     "text": [
      "<class 'pandas.core.frame.DataFrame'>\n",
      "RangeIndex: 725 entries, 0 to 724\n",
      "Data columns (total 6 columns):\n",
      " #   Column     Non-Null Count  Dtype  \n",
      "---  ------     --------------  -----  \n",
      " 0   LungCap    725 non-null    float64\n",
      " 1   Age        725 non-null    int64  \n",
      " 2   Height     725 non-null    float64\n",
      " 3   Smoke      725 non-null    object \n",
      " 4   Gender     725 non-null    object \n",
      " 5   Caesarean  725 non-null    object \n",
      "dtypes: float64(2), int64(1), object(3)\n",
      "memory usage: 34.1+ KB\n"
     ]
    }
   ],
   "source": [
    "df.info()"
   ]
  },
  {
   "cell_type": "markdown",
   "id": "ea8774f2-68f4-4b27-94d8-883d23d14afc",
   "metadata": {},
   "source": [
    "### 2 Data Cleaning"
   ]
  },
  {
   "cell_type": "markdown",
   "id": "393aa002-1db1-484e-a00e-d256c879fa99",
   "metadata": {},
   "source": [
    "- isnull() mehtod is used to detect missing or null values\n",
    "- sum() method is used to sum up value\n",
    "- sort_values() method is used to sort value in ascending or descending order\n"
   ]
  },
  {
   "cell_type": "code",
   "execution_count": 6,
   "id": "6a9e4add-c55d-47b6-8dcd-9396b0b3e6b5",
   "metadata": {
    "scrolled": true
   },
   "outputs": [
    {
     "data": {
      "text/plain": [
       "LungCap      0\n",
       "Age          0\n",
       "Height       0\n",
       "Smoke        0\n",
       "Gender       0\n",
       "Caesarean    0\n",
       "dtype: int64"
      ]
     },
     "execution_count": 6,
     "metadata": {},
     "output_type": "execute_result"
    }
   ],
   "source": [
    "# check the null  values\n",
    "df.isnull().sum().sort_values() # there is no null value"
   ]
  },
  {
   "cell_type": "markdown",
   "id": "37c48195-098b-4feb-a1fa-6122f565cb81",
   "metadata": {},
   "source": [
    "- The value_counts function  is used to count the occurrences of each unique value in a Series."
   ]
  },
  {
   "cell_type": "code",
   "execution_count": 7,
   "id": "1b6899ae-396d-453b-bf27-4ecb6dcc1e3e",
   "metadata": {},
   "outputs": [
    {
     "data": {
      "text/plain": [
       "Gender\n",
       "male      367\n",
       "female    358\n",
       "Name: count, dtype: int64"
      ]
     },
     "execution_count": 7,
     "metadata": {},
     "output_type": "execute_result"
    }
   ],
   "source": [
    "#df.Caesarean.value_counts()\n",
    "#df.Smoke.value_counts()\n",
    "df.Gender.value_counts()"
   ]
  },
  {
   "cell_type": "markdown",
   "id": "aaedb9dd-56fb-4a39-bb15-82c78e664102",
   "metadata": {},
   "source": [
    "-  The replace function  is used to replace specified values in a DataFrame or Series with new values.\n",
    "Using replace, we can convert object data into integers by specifying replacements in a DataFrame or Series."
   ]
  },
  {
   "cell_type": "code",
   "execution_count": 8,
   "id": "e047b30d-b46d-4d9a-ac8d-7aa6ec50fe44",
   "metadata": {},
   "outputs": [
    {
     "name": "stderr",
     "output_type": "stream",
     "text": [
      "C:\\Users\\PRATIK KOLHE\\AppData\\Local\\Temp\\ipykernel_11464\\4013284571.py:1: FutureWarning: Downcasting behavior in `replace` is deprecated and will be removed in a future version. To retain the old behavior, explicitly call `result.infer_objects(copy=False)`. To opt-in to the future behavior, set `pd.set_option('future.no_silent_downcasting', True)`\n",
      "  df.Smoke = df.Smoke.replace({\"no\":0,\"yes\":1})\n",
      "C:\\Users\\PRATIK KOLHE\\AppData\\Local\\Temp\\ipykernel_11464\\4013284571.py:2: FutureWarning: Downcasting behavior in `replace` is deprecated and will be removed in a future version. To retain the old behavior, explicitly call `result.infer_objects(copy=False)`. To opt-in to the future behavior, set `pd.set_option('future.no_silent_downcasting', True)`\n",
      "  df.Gender = df.Gender.replace({\"male\":1,\"female\":0})\n",
      "C:\\Users\\PRATIK KOLHE\\AppData\\Local\\Temp\\ipykernel_11464\\4013284571.py:3: FutureWarning: Downcasting behavior in `replace` is deprecated and will be removed in a future version. To retain the old behavior, explicitly call `result.infer_objects(copy=False)`. To opt-in to the future behavior, set `pd.set_option('future.no_silent_downcasting', True)`\n",
      "  df.Caesarean = df.Caesarean.replace({\"yes\":1,\"no\":0})\n"
     ]
    }
   ],
   "source": [
    "df.Smoke = df.Smoke.replace({\"no\":0,\"yes\":1})\n",
    "df.Gender = df.Gender.replace({\"male\":1,\"female\":0})\n",
    "df.Caesarean = df.Caesarean.replace({\"yes\":1,\"no\":0})"
   ]
  },
  {
   "cell_type": "markdown",
   "id": "b22386d2-b268-4d7a-8817-aedfb545ec71",
   "metadata": {},
   "source": [
    "## 3 Data Splitting"
   ]
  },
  {
   "cell_type": "markdown",
   "id": "fcfd08ed-6194-41e8-ab39-28990b8f63d1",
   "metadata": {},
   "source": [
    "- The train_test_split function from sklearn.model_selection is used to split a dataset into training and testing sets"
   ]
  },
  {
   "cell_type": "code",
   "execution_count": 9,
   "id": "051b624d-586d-453a-8426-42a00b0ac2d4",
   "metadata": {},
   "outputs": [],
   "source": [
    "from sklearn.model_selection import train_test_split"
   ]
  },
  {
   "cell_type": "markdown",
   "id": "09ade0f0-8fd0-45f2-b631-8a2d3361b60f",
   "metadata": {},
   "source": [
    "- splits the dataset df into training and testing sets, with 25% of the data allocated for testing."
   ]
  },
  {
   "cell_type": "code",
   "execution_count": 10,
   "id": "639e101a-e950-4425-94fe-dcd661110810",
   "metadata": {},
   "outputs": [],
   "source": [
    "df_train, df_test = train_test_split(df , test_size=0.25)"
   ]
  },
  {
   "cell_type": "markdown",
   "id": "5b307d97-41e7-4ed2-9619-19dab78f418b",
   "metadata": {},
   "source": [
    "- These lines separate the feature columns (df_train_x, df_test_x) from the target column (df_train_y, df_test_y) in both the training and testing datasets.\n"
   ]
  },
  {
   "cell_type": "code",
   "execution_count": 11,
   "id": "e4529c4a-2a99-4cba-9f94-3141df603295",
   "metadata": {},
   "outputs": [],
   "source": [
    "df_train_x = df_train.iloc[:, 1::]\n",
    "df_train_y = df_train.iloc[:, 0]\n",
    "\n",
    "df_test_x = df_test.iloc[:, 1::]\n",
    "df_test_y = df_test.iloc[:, 0]"
   ]
  },
  {
   "cell_type": "code",
   "execution_count": 74,
   "id": "d74ab956-2779-4fd3-9483-38bb8117fad4",
   "metadata": {},
   "outputs": [
    {
     "data": {
      "text/plain": [
       "((543, 5), (182, 5))"
      ]
     },
     "execution_count": 74,
     "metadata": {},
     "output_type": "execute_result"
    }
   ],
   "source": [
    "df_train_x.shape"
   ]
  },
  {
   "cell_type": "code",
   "execution_count": 13,
   "id": "7e9d3912-54b2-48ea-8ed7-01bf86c0845d",
   "metadata": {},
   "outputs": [
    {
     "data": {
      "text/plain": [
       "(543,)"
      ]
     },
     "execution_count": 13,
     "metadata": {},
     "output_type": "execute_result"
    }
   ],
   "source": [
    "df_train_y.shape"
   ]
  },
  {
   "cell_type": "code",
   "execution_count": 14,
   "id": "cb955d1c-cdde-4f7f-81b1-395930ada2b7",
   "metadata": {},
   "outputs": [],
   "source": [
    "# Model building\n",
    "#1. Import thr neccessary function from sklearn\n",
    "#2 Create an object of that function\n",
    "#3 Run the fit function and model is created\n",
    "#4 Run the pedict function(prediction is done)"
   ]
  },
  {
   "cell_type": "markdown",
   "id": "ebb2ab9c-2eba-456b-a537-ad8aa3987110",
   "metadata": {},
   "source": [
    "## 4 Model Selection:"
   ]
  },
  {
   "cell_type": "markdown",
   "id": "70ea7cac-434d-4b8d-b621-7ae799483748",
   "metadata": {},
   "source": [
    "- The LinearRegression class from sklearn.linear_model is used to build and train a model that predicts a target value based on input featur"
   ]
  },
  {
   "cell_type": "code",
   "execution_count": 15,
   "id": "4e0e83c7-cce7-424f-b317-49f4cc3b805c",
   "metadata": {},
   "outputs": [],
   "source": [
    "from sklearn.linear_model import LinearRegression"
   ]
  },
  {
   "cell_type": "code",
   "execution_count": 16,
   "id": "bfe2c5c1-cc21-4488-a903-109f14219a23",
   "metadata": {},
   "outputs": [],
   "source": [
    "linereg_df = LinearRegression()"
   ]
  },
  {
   "cell_type": "markdown",
   "id": "e5839d69-b787-4333-8a46-f98f7d25f60b",
   "metadata": {},
   "source": [
    "- The linereg_df.fit(df_train_x, df_train_y) command teaches the linear regression model to predict the target values using the training data."
   ]
  },
  {
   "cell_type": "code",
   "execution_count": 17,
   "id": "21f3bdfc-1d15-4c08-8a58-efc28e53eaef",
   "metadata": {},
   "outputs": [
    {
     "data": {
      "text/html": [
       "<style>#sk-container-id-1 {\n",
       "  /* Definition of color scheme common for light and dark mode */\n",
       "  --sklearn-color-text: black;\n",
       "  --sklearn-color-line: gray;\n",
       "  /* Definition of color scheme for unfitted estimators */\n",
       "  --sklearn-color-unfitted-level-0: #fff5e6;\n",
       "  --sklearn-color-unfitted-level-1: #f6e4d2;\n",
       "  --sklearn-color-unfitted-level-2: #ffe0b3;\n",
       "  --sklearn-color-unfitted-level-3: chocolate;\n",
       "  /* Definition of color scheme for fitted estimators */\n",
       "  --sklearn-color-fitted-level-0: #f0f8ff;\n",
       "  --sklearn-color-fitted-level-1: #d4ebff;\n",
       "  --sklearn-color-fitted-level-2: #b3dbfd;\n",
       "  --sklearn-color-fitted-level-3: cornflowerblue;\n",
       "\n",
       "  /* Specific color for light theme */\n",
       "  --sklearn-color-text-on-default-background: var(--sg-text-color, var(--theme-code-foreground, var(--jp-content-font-color1, black)));\n",
       "  --sklearn-color-background: var(--sg-background-color, var(--theme-background, var(--jp-layout-color0, white)));\n",
       "  --sklearn-color-border-box: var(--sg-text-color, var(--theme-code-foreground, var(--jp-content-font-color1, black)));\n",
       "  --sklearn-color-icon: #696969;\n",
       "\n",
       "  @media (prefers-color-scheme: dark) {\n",
       "    /* Redefinition of color scheme for dark theme */\n",
       "    --sklearn-color-text-on-default-background: var(--sg-text-color, var(--theme-code-foreground, var(--jp-content-font-color1, white)));\n",
       "    --sklearn-color-background: var(--sg-background-color, var(--theme-background, var(--jp-layout-color0, #111)));\n",
       "    --sklearn-color-border-box: var(--sg-text-color, var(--theme-code-foreground, var(--jp-content-font-color1, white)));\n",
       "    --sklearn-color-icon: #878787;\n",
       "  }\n",
       "}\n",
       "\n",
       "#sk-container-id-1 {\n",
       "  color: var(--sklearn-color-text);\n",
       "}\n",
       "\n",
       "#sk-container-id-1 pre {\n",
       "  padding: 0;\n",
       "}\n",
       "\n",
       "#sk-container-id-1 input.sk-hidden--visually {\n",
       "  border: 0;\n",
       "  clip: rect(1px 1px 1px 1px);\n",
       "  clip: rect(1px, 1px, 1px, 1px);\n",
       "  height: 1px;\n",
       "  margin: -1px;\n",
       "  overflow: hidden;\n",
       "  padding: 0;\n",
       "  position: absolute;\n",
       "  width: 1px;\n",
       "}\n",
       "\n",
       "#sk-container-id-1 div.sk-dashed-wrapped {\n",
       "  border: 1px dashed var(--sklearn-color-line);\n",
       "  margin: 0 0.4em 0.5em 0.4em;\n",
       "  box-sizing: border-box;\n",
       "  padding-bottom: 0.4em;\n",
       "  background-color: var(--sklearn-color-background);\n",
       "}\n",
       "\n",
       "#sk-container-id-1 div.sk-container {\n",
       "  /* jupyter's `normalize.less` sets `[hidden] { display: none; }`\n",
       "     but bootstrap.min.css set `[hidden] { display: none !important; }`\n",
       "     so we also need the `!important` here to be able to override the\n",
       "     default hidden behavior on the sphinx rendered scikit-learn.org.\n",
       "     See: https://github.com/scikit-learn/scikit-learn/issues/21755 */\n",
       "  display: inline-block !important;\n",
       "  position: relative;\n",
       "}\n",
       "\n",
       "#sk-container-id-1 div.sk-text-repr-fallback {\n",
       "  display: none;\n",
       "}\n",
       "\n",
       "div.sk-parallel-item,\n",
       "div.sk-serial,\n",
       "div.sk-item {\n",
       "  /* draw centered vertical line to link estimators */\n",
       "  background-image: linear-gradient(var(--sklearn-color-text-on-default-background), var(--sklearn-color-text-on-default-background));\n",
       "  background-size: 2px 100%;\n",
       "  background-repeat: no-repeat;\n",
       "  background-position: center center;\n",
       "}\n",
       "\n",
       "/* Parallel-specific style estimator block */\n",
       "\n",
       "#sk-container-id-1 div.sk-parallel-item::after {\n",
       "  content: \"\";\n",
       "  width: 100%;\n",
       "  border-bottom: 2px solid var(--sklearn-color-text-on-default-background);\n",
       "  flex-grow: 1;\n",
       "}\n",
       "\n",
       "#sk-container-id-1 div.sk-parallel {\n",
       "  display: flex;\n",
       "  align-items: stretch;\n",
       "  justify-content: center;\n",
       "  background-color: var(--sklearn-color-background);\n",
       "  position: relative;\n",
       "}\n",
       "\n",
       "#sk-container-id-1 div.sk-parallel-item {\n",
       "  display: flex;\n",
       "  flex-direction: column;\n",
       "}\n",
       "\n",
       "#sk-container-id-1 div.sk-parallel-item:first-child::after {\n",
       "  align-self: flex-end;\n",
       "  width: 50%;\n",
       "}\n",
       "\n",
       "#sk-container-id-1 div.sk-parallel-item:last-child::after {\n",
       "  align-self: flex-start;\n",
       "  width: 50%;\n",
       "}\n",
       "\n",
       "#sk-container-id-1 div.sk-parallel-item:only-child::after {\n",
       "  width: 0;\n",
       "}\n",
       "\n",
       "/* Serial-specific style estimator block */\n",
       "\n",
       "#sk-container-id-1 div.sk-serial {\n",
       "  display: flex;\n",
       "  flex-direction: column;\n",
       "  align-items: center;\n",
       "  background-color: var(--sklearn-color-background);\n",
       "  padding-right: 1em;\n",
       "  padding-left: 1em;\n",
       "}\n",
       "\n",
       "\n",
       "/* Toggleable style: style used for estimator/Pipeline/ColumnTransformer box that is\n",
       "clickable and can be expanded/collapsed.\n",
       "- Pipeline and ColumnTransformer use this feature and define the default style\n",
       "- Estimators will overwrite some part of the style using the `sk-estimator` class\n",
       "*/\n",
       "\n",
       "/* Pipeline and ColumnTransformer style (default) */\n",
       "\n",
       "#sk-container-id-1 div.sk-toggleable {\n",
       "  /* Default theme specific background. It is overwritten whether we have a\n",
       "  specific estimator or a Pipeline/ColumnTransformer */\n",
       "  background-color: var(--sklearn-color-background);\n",
       "}\n",
       "\n",
       "/* Toggleable label */\n",
       "#sk-container-id-1 label.sk-toggleable__label {\n",
       "  cursor: pointer;\n",
       "  display: block;\n",
       "  width: 100%;\n",
       "  margin-bottom: 0;\n",
       "  padding: 0.5em;\n",
       "  box-sizing: border-box;\n",
       "  text-align: center;\n",
       "}\n",
       "\n",
       "#sk-container-id-1 label.sk-toggleable__label-arrow:before {\n",
       "  /* Arrow on the left of the label */\n",
       "  content: \"▸\";\n",
       "  float: left;\n",
       "  margin-right: 0.25em;\n",
       "  color: var(--sklearn-color-icon);\n",
       "}\n",
       "\n",
       "#sk-container-id-1 label.sk-toggleable__label-arrow:hover:before {\n",
       "  color: var(--sklearn-color-text);\n",
       "}\n",
       "\n",
       "/* Toggleable content - dropdown */\n",
       "\n",
       "#sk-container-id-1 div.sk-toggleable__content {\n",
       "  max-height: 0;\n",
       "  max-width: 0;\n",
       "  overflow: hidden;\n",
       "  text-align: left;\n",
       "  /* unfitted */\n",
       "  background-color: var(--sklearn-color-unfitted-level-0);\n",
       "}\n",
       "\n",
       "#sk-container-id-1 div.sk-toggleable__content.fitted {\n",
       "  /* fitted */\n",
       "  background-color: var(--sklearn-color-fitted-level-0);\n",
       "}\n",
       "\n",
       "#sk-container-id-1 div.sk-toggleable__content pre {\n",
       "  margin: 0.2em;\n",
       "  border-radius: 0.25em;\n",
       "  color: var(--sklearn-color-text);\n",
       "  /* unfitted */\n",
       "  background-color: var(--sklearn-color-unfitted-level-0);\n",
       "}\n",
       "\n",
       "#sk-container-id-1 div.sk-toggleable__content.fitted pre {\n",
       "  /* unfitted */\n",
       "  background-color: var(--sklearn-color-fitted-level-0);\n",
       "}\n",
       "\n",
       "#sk-container-id-1 input.sk-toggleable__control:checked~div.sk-toggleable__content {\n",
       "  /* Expand drop-down */\n",
       "  max-height: 200px;\n",
       "  max-width: 100%;\n",
       "  overflow: auto;\n",
       "}\n",
       "\n",
       "#sk-container-id-1 input.sk-toggleable__control:checked~label.sk-toggleable__label-arrow:before {\n",
       "  content: \"▾\";\n",
       "}\n",
       "\n",
       "/* Pipeline/ColumnTransformer-specific style */\n",
       "\n",
       "#sk-container-id-1 div.sk-label input.sk-toggleable__control:checked~label.sk-toggleable__label {\n",
       "  color: var(--sklearn-color-text);\n",
       "  background-color: var(--sklearn-color-unfitted-level-2);\n",
       "}\n",
       "\n",
       "#sk-container-id-1 div.sk-label.fitted input.sk-toggleable__control:checked~label.sk-toggleable__label {\n",
       "  background-color: var(--sklearn-color-fitted-level-2);\n",
       "}\n",
       "\n",
       "/* Estimator-specific style */\n",
       "\n",
       "/* Colorize estimator box */\n",
       "#sk-container-id-1 div.sk-estimator input.sk-toggleable__control:checked~label.sk-toggleable__label {\n",
       "  /* unfitted */\n",
       "  background-color: var(--sklearn-color-unfitted-level-2);\n",
       "}\n",
       "\n",
       "#sk-container-id-1 div.sk-estimator.fitted input.sk-toggleable__control:checked~label.sk-toggleable__label {\n",
       "  /* fitted */\n",
       "  background-color: var(--sklearn-color-fitted-level-2);\n",
       "}\n",
       "\n",
       "#sk-container-id-1 div.sk-label label.sk-toggleable__label,\n",
       "#sk-container-id-1 div.sk-label label {\n",
       "  /* The background is the default theme color */\n",
       "  color: var(--sklearn-color-text-on-default-background);\n",
       "}\n",
       "\n",
       "/* On hover, darken the color of the background */\n",
       "#sk-container-id-1 div.sk-label:hover label.sk-toggleable__label {\n",
       "  color: var(--sklearn-color-text);\n",
       "  background-color: var(--sklearn-color-unfitted-level-2);\n",
       "}\n",
       "\n",
       "/* Label box, darken color on hover, fitted */\n",
       "#sk-container-id-1 div.sk-label.fitted:hover label.sk-toggleable__label.fitted {\n",
       "  color: var(--sklearn-color-text);\n",
       "  background-color: var(--sklearn-color-fitted-level-2);\n",
       "}\n",
       "\n",
       "/* Estimator label */\n",
       "\n",
       "#sk-container-id-1 div.sk-label label {\n",
       "  font-family: monospace;\n",
       "  font-weight: bold;\n",
       "  display: inline-block;\n",
       "  line-height: 1.2em;\n",
       "}\n",
       "\n",
       "#sk-container-id-1 div.sk-label-container {\n",
       "  text-align: center;\n",
       "}\n",
       "\n",
       "/* Estimator-specific */\n",
       "#sk-container-id-1 div.sk-estimator {\n",
       "  font-family: monospace;\n",
       "  border: 1px dotted var(--sklearn-color-border-box);\n",
       "  border-radius: 0.25em;\n",
       "  box-sizing: border-box;\n",
       "  margin-bottom: 0.5em;\n",
       "  /* unfitted */\n",
       "  background-color: var(--sklearn-color-unfitted-level-0);\n",
       "}\n",
       "\n",
       "#sk-container-id-1 div.sk-estimator.fitted {\n",
       "  /* fitted */\n",
       "  background-color: var(--sklearn-color-fitted-level-0);\n",
       "}\n",
       "\n",
       "/* on hover */\n",
       "#sk-container-id-1 div.sk-estimator:hover {\n",
       "  /* unfitted */\n",
       "  background-color: var(--sklearn-color-unfitted-level-2);\n",
       "}\n",
       "\n",
       "#sk-container-id-1 div.sk-estimator.fitted:hover {\n",
       "  /* fitted */\n",
       "  background-color: var(--sklearn-color-fitted-level-2);\n",
       "}\n",
       "\n",
       "/* Specification for estimator info (e.g. \"i\" and \"?\") */\n",
       "\n",
       "/* Common style for \"i\" and \"?\" */\n",
       "\n",
       ".sk-estimator-doc-link,\n",
       "a:link.sk-estimator-doc-link,\n",
       "a:visited.sk-estimator-doc-link {\n",
       "  float: right;\n",
       "  font-size: smaller;\n",
       "  line-height: 1em;\n",
       "  font-family: monospace;\n",
       "  background-color: var(--sklearn-color-background);\n",
       "  border-radius: 1em;\n",
       "  height: 1em;\n",
       "  width: 1em;\n",
       "  text-decoration: none !important;\n",
       "  margin-left: 1ex;\n",
       "  /* unfitted */\n",
       "  border: var(--sklearn-color-unfitted-level-1) 1pt solid;\n",
       "  color: var(--sklearn-color-unfitted-level-1);\n",
       "}\n",
       "\n",
       ".sk-estimator-doc-link.fitted,\n",
       "a:link.sk-estimator-doc-link.fitted,\n",
       "a:visited.sk-estimator-doc-link.fitted {\n",
       "  /* fitted */\n",
       "  border: var(--sklearn-color-fitted-level-1) 1pt solid;\n",
       "  color: var(--sklearn-color-fitted-level-1);\n",
       "}\n",
       "\n",
       "/* On hover */\n",
       "div.sk-estimator:hover .sk-estimator-doc-link:hover,\n",
       ".sk-estimator-doc-link:hover,\n",
       "div.sk-label-container:hover .sk-estimator-doc-link:hover,\n",
       ".sk-estimator-doc-link:hover {\n",
       "  /* unfitted */\n",
       "  background-color: var(--sklearn-color-unfitted-level-3);\n",
       "  color: var(--sklearn-color-background);\n",
       "  text-decoration: none;\n",
       "}\n",
       "\n",
       "div.sk-estimator.fitted:hover .sk-estimator-doc-link.fitted:hover,\n",
       ".sk-estimator-doc-link.fitted:hover,\n",
       "div.sk-label-container:hover .sk-estimator-doc-link.fitted:hover,\n",
       ".sk-estimator-doc-link.fitted:hover {\n",
       "  /* fitted */\n",
       "  background-color: var(--sklearn-color-fitted-level-3);\n",
       "  color: var(--sklearn-color-background);\n",
       "  text-decoration: none;\n",
       "}\n",
       "\n",
       "/* Span, style for the box shown on hovering the info icon */\n",
       ".sk-estimator-doc-link span {\n",
       "  display: none;\n",
       "  z-index: 9999;\n",
       "  position: relative;\n",
       "  font-weight: normal;\n",
       "  right: .2ex;\n",
       "  padding: .5ex;\n",
       "  margin: .5ex;\n",
       "  width: min-content;\n",
       "  min-width: 20ex;\n",
       "  max-width: 50ex;\n",
       "  color: var(--sklearn-color-text);\n",
       "  box-shadow: 2pt 2pt 4pt #999;\n",
       "  /* unfitted */\n",
       "  background: var(--sklearn-color-unfitted-level-0);\n",
       "  border: .5pt solid var(--sklearn-color-unfitted-level-3);\n",
       "}\n",
       "\n",
       ".sk-estimator-doc-link.fitted span {\n",
       "  /* fitted */\n",
       "  background: var(--sklearn-color-fitted-level-0);\n",
       "  border: var(--sklearn-color-fitted-level-3);\n",
       "}\n",
       "\n",
       ".sk-estimator-doc-link:hover span {\n",
       "  display: block;\n",
       "}\n",
       "\n",
       "/* \"?\"-specific style due to the `<a>` HTML tag */\n",
       "\n",
       "#sk-container-id-1 a.estimator_doc_link {\n",
       "  float: right;\n",
       "  font-size: 1rem;\n",
       "  line-height: 1em;\n",
       "  font-family: monospace;\n",
       "  background-color: var(--sklearn-color-background);\n",
       "  border-radius: 1rem;\n",
       "  height: 1rem;\n",
       "  width: 1rem;\n",
       "  text-decoration: none;\n",
       "  /* unfitted */\n",
       "  color: var(--sklearn-color-unfitted-level-1);\n",
       "  border: var(--sklearn-color-unfitted-level-1) 1pt solid;\n",
       "}\n",
       "\n",
       "#sk-container-id-1 a.estimator_doc_link.fitted {\n",
       "  /* fitted */\n",
       "  border: var(--sklearn-color-fitted-level-1) 1pt solid;\n",
       "  color: var(--sklearn-color-fitted-level-1);\n",
       "}\n",
       "\n",
       "/* On hover */\n",
       "#sk-container-id-1 a.estimator_doc_link:hover {\n",
       "  /* unfitted */\n",
       "  background-color: var(--sklearn-color-unfitted-level-3);\n",
       "  color: var(--sklearn-color-background);\n",
       "  text-decoration: none;\n",
       "}\n",
       "\n",
       "#sk-container-id-1 a.estimator_doc_link.fitted:hover {\n",
       "  /* fitted */\n",
       "  background-color: var(--sklearn-color-fitted-level-3);\n",
       "}\n",
       "</style><div id=\"sk-container-id-1\" class=\"sk-top-container\"><div class=\"sk-text-repr-fallback\"><pre>LinearRegression()</pre><b>In a Jupyter environment, please rerun this cell to show the HTML representation or trust the notebook. <br />On GitHub, the HTML representation is unable to render, please try loading this page with nbviewer.org.</b></div><div class=\"sk-container\" hidden><div class=\"sk-item\"><div class=\"sk-estimator fitted sk-toggleable\"><input class=\"sk-toggleable__control sk-hidden--visually\" id=\"sk-estimator-id-1\" type=\"checkbox\" checked><label for=\"sk-estimator-id-1\" class=\"sk-toggleable__label fitted sk-toggleable__label-arrow fitted\">&nbsp;&nbsp;LinearRegression<a class=\"sk-estimator-doc-link fitted\" rel=\"noreferrer\" target=\"_blank\" href=\"https://scikit-learn.org/1.4/modules/generated/sklearn.linear_model.LinearRegression.html\">?<span>Documentation for LinearRegression</span></a><span class=\"sk-estimator-doc-link fitted\">i<span>Fitted</span></span></label><div class=\"sk-toggleable__content fitted\"><pre>LinearRegression()</pre></div> </div></div></div></div>"
      ],
      "text/plain": [
       "LinearRegression()"
      ]
     },
     "execution_count": 17,
     "metadata": {},
     "output_type": "execute_result"
    }
   ],
   "source": [
    "linereg_df.fit(df_train_x, df_train_y)"
   ]
  },
  {
   "cell_type": "markdown",
   "id": "9457b58c-4924-44f3-b413-ee3f435947b1",
   "metadata": {},
   "source": [
    "- This clarifies that df_test holds predictions made on the test dataset, while df_train holds predictions made on the train dataset using the linereg_df model."
   ]
  },
  {
   "cell_type": "code",
   "execution_count": 37,
   "id": "fcbf8b9c-576b-46dd-ae34-25f66de0bc2b",
   "metadata": {},
   "outputs": [],
   "source": [
    "pred_test = linereg_df.predict(df_test_x)\n",
    "pred_train = linereg_df.predict(df_train_x)"
   ]
  },
  {
   "cell_type": "markdown",
   "id": "a91e2744-5404-4e2b-8750-766173da5bc0",
   "metadata": {},
   "source": [
    "## 5 Model evaluation - Check the performance of our model"
   ]
  },
  {
   "cell_type": "markdown",
   "id": "8c9f7ce3-a103-4165-82b3-9f000ad663eb",
   "metadata": {},
   "source": [
    "- Rsquare represents the R-squared score calculated on the training data "
   ]
  },
  {
   "cell_type": "code",
   "execution_count": 38,
   "id": "b3f1be28-d4e3-4521-80cb-8da508439541",
   "metadata": {},
   "outputs": [
    {
     "data": {
      "text/plain": [
       "0.8510393656493904"
      ]
     },
     "execution_count": 38,
     "metadata": {},
     "output_type": "execute_result"
    }
   ],
   "source": [
    "Rsquare = linereg_df.score(df_train_x, df_train_y)\n",
    "Rsquare"
   ]
  },
  {
   "cell_type": "code",
   "execution_count": 39,
   "id": "f92171da-9cac-468e-8368-295496c9701d",
   "metadata": {},
   "outputs": [
    {
     "data": {
      "text/plain": [
       "(543, 5)"
      ]
     },
     "execution_count": 39,
     "metadata": {},
     "output_type": "execute_result"
    }
   ],
   "source": [
    "df_train_x.shape"
   ]
  },
  {
   "cell_type": "markdown",
   "id": "e443df57-770b-4dd6-8ace-9ffb8e13d9b5",
   "metadata": {},
   "source": [
    "---- Rsquare"
   ]
  },
  {
   "cell_type": "code",
   "execution_count": 40,
   "id": "59c9b1a0-2496-46e0-bed9-814a71a1dff1",
   "metadata": {},
   "outputs": [],
   "source": [
    "N = df_train_x.shape[0] # Number of samples in the training set\n",
    "K = df_train_x.shape[1]  # Number of features in the training set"
   ]
  },
  {
   "cell_type": "markdown",
   "id": "de1ac938-488c-423e-af6a-46ff1a435032",
   "metadata": {},
   "source": [
    "- Rsquare represents the R-squared score calculated on the training data \n",
    "- R-squared is a statistical measure that ranges from 0 to 1.\n",
    "- Higher R-squared: A value closer to 1 indicating a good fit of your model to the data.\n",
    "- Lower R-squared: A value closer to 0 indicate that your model does not adequately explain the variability in the data."
   ]
  },
  {
   "cell_type": "code",
   "execution_count": 48,
   "id": "bd56cacf-ae0d-4b48-a7c7-7506c0541c26",
   "metadata": {},
   "outputs": [
    {
     "data": {
      "text/plain": [
       "0.8496523951247106"
      ]
     },
     "execution_count": 48,
     "metadata": {},
     "output_type": "execute_result"
    }
   ],
   "source": [
    "Adj_Rsquare = 1 - (1-Rsquare) * (N-1) / (N-K-1)\n",
    "Adj_Rsquare"
   ]
  },
  {
   "cell_type": "markdown",
   "id": "a2e0ab2b-15c7-4580-b2b4-571b8138e648",
   "metadata": {},
   "source": [
    "- Each element in linereg_df.coef_ corresponds to the coefficient of the respective feature in your model."
   ]
  },
  {
   "cell_type": "code",
   "execution_count": 53,
   "id": "e15a06e8-a91c-4a40-bcdc-62e145298e3a",
   "metadata": {},
   "outputs": [
    {
     "data": {
      "text/plain": [
       "array([ 0.16214999,  0.26401553, -0.53268863,  0.35063346, -0.26353655])"
      ]
     },
     "execution_count": 53,
     "metadata": {},
     "output_type": "execute_result"
    }
   ],
   "source": [
    "#coefficients\n",
    "linereg_df.coef_"
   ]
  },
  {
   "cell_type": "markdown",
   "id": "d7638214-936d-47cc-bd44-8bf6acf37b2c",
   "metadata": {},
   "source": [
    "- the intercept (intercept_) represents the value of the dependent variable (target) when all independent variables (features) are zero. "
   ]
  },
  {
   "cell_type": "code",
   "execution_count": 54,
   "id": "fb49b4dd-1896-4cb1-b016-07136bb333ff",
   "metadata": {},
   "outputs": [
    {
     "data": {
      "text/plain": [
       "-11.309198727019158"
      ]
     },
     "execution_count": 54,
     "metadata": {},
     "output_type": "execute_result"
    }
   ],
   "source": [
    "#intercept\n",
    "linereg_df.intercept_  # formula   Y−(coef_1×X1+coef_2×X2+...+coef_n×Xn)"
   ]
  },
  {
   "cell_type": "code",
   "execution_count": 55,
   "id": "1444c08f-533a-48c4-b249-cf7f0db30391",
   "metadata": {},
   "outputs": [],
   "source": [
    "# finding MSE, RMSE, MAPE\n",
    "err_train = df_train_y - pred_train\n",
    "err_test = df_test_y - pred_test\n"
   ]
  },
  {
   "cell_type": "markdown",
   "id": "a7f8fd73-2e4f-419e-aa9f-a85e52b3c6cc",
   "metadata": {},
   "source": [
    "-  Mean Squared Error (MSE) measures the average squared difference between predicted and actual values.\n"
   ]
  },
  {
   "cell_type": "code",
   "execution_count": 62,
   "id": "e6df3bd0-246d-4e15-8e1a-2c864de99979",
   "metadata": {},
   "outputs": [
    {
     "data": {
      "text/plain": [
       "0.9563921637252222"
      ]
     },
     "execution_count": 62,
     "metadata": {},
     "output_type": "execute_result"
    }
   ],
   "source": [
    "#Mean Squared Error\n",
    "mse = np.mean(np.square(err_test))\n",
    "mse"
   ]
  },
  {
   "cell_type": "markdown",
   "id": "b7c8a026-3b87-4bcb-8b9c-fb65f94d62a4",
   "metadata": {},
   "source": [
    "- RMSE (Root Mean Squared Error) is the square root of the average squared difference between predicted and actual values.\n"
   ]
  },
  {
   "cell_type": "code",
   "execution_count": 61,
   "id": "e0a3663e-6899-4274-97be-5ac70afc53d5",
   "metadata": {},
   "outputs": [
    {
     "data": {
      "text/plain": [
       "0.9779530478122261"
      ]
     },
     "execution_count": 61,
     "metadata": {},
     "output_type": "execute_result"
    }
   ],
   "source": [
    "#Root Mean Squared Error\n",
    "rmse = np.sqrt(mse)\n",
    "rmse"
   ]
  },
  {
   "cell_type": "markdown",
   "id": "2e9439c5-2380-46c9-83e9-88f38336ecc7",
   "metadata": {},
   "source": [
    "-  MAPE (Mean Absolute Percentage Error) measures the average absolute percentage difference between predicted and actual values.\n"
   ]
  },
  {
   "cell_type": "code",
   "execution_count": 58,
   "id": "0ce02ca5-a749-4c7a-a79e-49efae740006",
   "metadata": {},
   "outputs": [
    {
     "data": {
      "text/plain": [
       "12.474532540647033"
      ]
     },
     "execution_count": 58,
     "metadata": {},
     "output_type": "execute_result"
    }
   ],
   "source": [
    "mape = np.mean(np.abs(err_test * 100 / df_test_y))\n",
    "mape"
   ]
  },
  {
   "cell_type": "markdown",
   "id": "60d84546-d894-48a8-97ce-aa4bb4c2a199",
   "metadata": {},
   "source": [
    "- used to calculate the accuracy of regression model. that shown the d/w predicted value and actual value\n",
    "- lower mae value indicate better model performance"
   ]
  },
  {
   "cell_type": "code",
   "execution_count": 63,
   "id": "74420af7-d75a-41d2-afc6-2a353cb39179",
   "metadata": {},
   "outputs": [
    {
     "data": {
      "text/plain": [
       "0.7888917724078404"
      ]
     },
     "execution_count": 63,
     "metadata": {},
     "output_type": "execute_result"
    }
   ],
   "source": [
    "# Mean Absolute Error\n",
    "mae = np.mean(np.abs(err_test))\n",
    "mae"
   ]
  },
  {
   "cell_type": "code",
   "execution_count": 81,
   "id": "19758d2c-c2f9-4f57-a2ea-5903a7fe2114",
   "metadata": {},
   "outputs": [
    {
     "name": "stderr",
     "output_type": "stream",
     "text": [
      "C:\\Users\\PRATIK KOLHE\\AppData\\Local\\Temp\\ipykernel_11464\\1908719926.py:2: UserWarning: \n",
      "\n",
      "`distplot` is a deprecated function and will be removed in seaborn v0.14.0.\n",
      "\n",
      "Please adapt your code to use either `displot` (a figure-level function with\n",
      "similar flexibility) or `histplot` (an axes-level function for histograms).\n",
      "\n",
      "For a guide to updating your code to use the new functions, please see\n",
      "https://gist.github.com/mwaskom/de44147ed2974457ad6372750bbe5751\n",
      "\n",
      "  sns.distplot(err_train)\n",
      "C:\\Users\\PRATIK KOLHE\\anaconda3\\envs\\pythangama\\Lib\\site-packages\\seaborn\\_oldcore.py:1119: FutureWarning: use_inf_as_na option is deprecated and will be removed in a future version. Convert inf values to NaN before operating instead.\n",
      "  with pd.option_context('mode.use_inf_as_na', True):\n"
     ]
    },
    {
     "data": {
      "text/plain": [
       "<Axes: xlabel='LungCap', ylabel='Density'>"
      ]
     },
     "execution_count": 81,
     "metadata": {},
     "output_type": "execute_result"
    },
    {
     "data": {
      "image/png": "[encoded data removed]",
      "text/plain": [
       "<Figure size 640x480 with 1 Axes>"
      ]
     },
     "metadata": {},
     "output_type": "display_data"
    }
   ],
   "source": [
    "import seaborn as sns\n",
    "sns.distplot(err_train)\n"
   ]
  },
  {
   "cell_type": "code",
   "execution_count": 85,
   "id": "eaf2c783-b746-4de9-85dd-205605fe802f",
   "metadata": {},
   "outputs": [
    {
     "data": {
      "text/plain": [
       "<matplotlib.lines.Line2D at 0x258c7601c10>"
      ]
     },
     "execution_count": 85,
     "metadata": {},
     "output_type": "execute_result"
    },
    {
     "data": {
      "image/png": "[encoded data removed]",
      "text/plain": [
       "<Figure size 800x800 with 1 Axes>"
      ]
     },
     "metadata": {},
     "output_type": "display_data"
    }
   ],
   "source": [
    "#scatter plot of error\n",
    "plt.figure(figsize=(8,8))\n",
    "plt.plot(err_train,\"*\")\n",
    "plt.axhline(y = np.mean(err_train),color=\"green\")\n",
    "\n"
   ]
  },
  {
   "cell_type": "code",
   "execution_count": 66,
   "id": "2cb77191-1025-48a4-b1d0-6527c6c8cf19",
   "metadata": {},
   "outputs": [
    {
     "data": {
      "image/png": "[encoded data removed]",
      "text/plain": [
       "<Figure size 800x600 with 1 Axes>"
      ]
     },
     "metadata": {},
     "output_type": "display_data"
    }
   ],
   "source": [
    "import matplotlib.pyplot as plt\n",
    "\n",
    "plt.figure(figsize=(8, 6))\n",
    "plt.hist(df['LungCap'], bins=10, edgecolor='black')\n",
    "plt.title('Histogram of Lung Capacity')\n",
    "plt.xlabel('Lung Capacity')\n",
    "plt.ylabel('Frequency')\n",
    "plt.grid(True)\n",
    "plt.show()\n"
   ]
  },
  {
   "cell_type": "code",
   "execution_count": 92,
   "id": "66dd79ec-d74f-4e42-b4c4-b2a081ac1b59",
   "metadata": {},
   "outputs": [
    {
     "data": {
      "text/html": [
       "<div>\n",
       "<style scoped>\n",
       "    .dataframe tbody tr th:only-of-type {\n",
       "        vertical-align: middle;\n",
       "    }\n",
       "\n",
       "    .dataframe tbody tr th {\n",
       "        vertical-align: top;\n",
       "    }\n",
       "\n",
       "    .dataframe thead th {\n",
       "        text-align: right;\n",
       "    }\n",
       "</style>\n",
       "<table border=\"1\" class=\"dataframe\">\n",
       "  <thead>\n",
       "    <tr style=\"text-align: right;\">\n",
       "      <th></th>\n",
       "      <th>Predicted</th>\n",
       "      <th>Actual</th>\n",
       "    </tr>\n",
       "  </thead>\n",
       "  <tbody>\n",
       "    <tr>\n",
       "      <th>590</th>\n",
       "      <td>8.495273</td>\n",
       "      <td>9.150</td>\n",
       "    </tr>\n",
       "    <tr>\n",
       "      <th>569</th>\n",
       "      <td>11.818322</td>\n",
       "      <td>13.375</td>\n",
       "    </tr>\n",
       "    <tr>\n",
       "      <th>293</th>\n",
       "      <td>11.169243</td>\n",
       "      <td>11.400</td>\n",
       "    </tr>\n",
       "    <tr>\n",
       "      <th>373</th>\n",
       "      <td>11.720003</td>\n",
       "      <td>10.725</td>\n",
       "    </tr>\n",
       "    <tr>\n",
       "      <th>471</th>\n",
       "      <td>11.497284</td>\n",
       "      <td>12.625</td>\n",
       "    </tr>\n",
       "    <tr>\n",
       "      <th>347</th>\n",
       "      <td>5.157455</td>\n",
       "      <td>5.025</td>\n",
       "    </tr>\n",
       "    <tr>\n",
       "      <th>558</th>\n",
       "      <td>11.572816</td>\n",
       "      <td>10.575</td>\n",
       "    </tr>\n",
       "    <tr>\n",
       "      <th>658</th>\n",
       "      <td>6.717971</td>\n",
       "      <td>6.500</td>\n",
       "    </tr>\n",
       "    <tr>\n",
       "      <th>300</th>\n",
       "      <td>9.030347</td>\n",
       "      <td>8.200</td>\n",
       "    </tr>\n",
       "    <tr>\n",
       "      <th>516</th>\n",
       "      <td>7.631720</td>\n",
       "      <td>8.275</td>\n",
       "    </tr>\n",
       "  </tbody>\n",
       "</table>\n",
       "</div>"
      ],
      "text/plain": [
       "     Predicted  Actual\n",
       "590   8.495273   9.150\n",
       "569  11.818322  13.375\n",
       "293  11.169243  11.400\n",
       "373  11.720003  10.725\n",
       "471  11.497284  12.625\n",
       "347   5.157455   5.025\n",
       "558  11.572816  10.575\n",
       "658   6.717971   6.500\n",
       "300   9.030347   8.200\n",
       "516   7.631720   8.275"
      ]
     },
     "execution_count": 92,
     "metadata": {},
     "output_type": "execute_result"
    }
   ],
   "source": [
    "pred_actual = pd.DataFrame({\"Predicted\":pred_train,\"Actual\":df_train_y})\n",
    "pred_actual.head(10)"
   ]
  },
  {
   "cell_type": "code",
   "execution_count": 93,
   "id": "4883ed0a-0e4c-41d9-bb25-0a2cb0287a25",
   "metadata": {},
   "outputs": [
    {
     "name": "stderr",
     "output_type": "stream",
     "text": [
      "C:\\Users\\PRATIK KOLHE\\anaconda3\\envs\\pythangama\\Lib\\site-packages\\seaborn\\_oldcore.py:1119: FutureWarning: use_inf_as_na option is deprecated and will be removed in a future version. Convert inf values to NaN before operating instead.\n",
      "  with pd.option_context('mode.use_inf_as_na', True):\n",
      "C:\\Users\\PRATIK KOLHE\\anaconda3\\envs\\pythangama\\Lib\\site-packages\\seaborn\\_oldcore.py:1119: FutureWarning: use_inf_as_na option is deprecated and will be removed in a future version. Convert inf values to NaN before operating instead.\n",
      "  with pd.option_context('mode.use_inf_as_na', True):\n"
     ]
    },
    {
     "data": {
      "text/plain": [
       "<seaborn.axisgrid.JointGrid at 0x258c75eb490>"
      ]
     },
     "execution_count": 93,
     "metadata": {},
     "output_type": "execute_result"
    },
    {
     "data": {
      "text/plain": [
       "<Figure size 1000x1000 with 0 Axes>"
      ]
     },
     "metadata": {},
     "output_type": "display_data"
    },
    {
     "data": {
      "image/png": "[encoded data removed]",
      "text/plain": [
       "<Figure size 600x600 with 3 Axes>"
      ]
     },
     "metadata": {},
     "output_type": "display_data"
    }
   ],
   "source": [
    "plt.figure(figsize=(10,10))\n",
    "sns.jointplot(x=\"Actual\",y=\"Predicted\",kind=\"reg\",data=pred_actual)\n"
   ]
  },
  {
   "cell_type": "code",
   "execution_count": null,
   "id": "a90d44ec-d6c1-4b3d-97ee-da9985a9040e",
   "metadata": {},
   "outputs": [],
   "source": []
  }
 ],
 "metadata": {
  "kernelspec": {
   "display_name": "Python 3 (ipykernel)",
   "language": "python",
   "name": "python3"
  },
  "language_info": {
   "codemirror_mode": {
    "name": "ipython",
    "version": 3
   },
   "file_extension": ".py",
   "mimetype": "text/x-python",
   "name": "python",
   "nbconvert_exporter": "python",
   "pygments_lexer": "ipython3",
   "version": "3.11.7"
  }
 },
 "nbformat": 4,
 "nbformat_minor": 5
}
